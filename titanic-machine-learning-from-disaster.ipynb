{
 "cells": [
  {
   "cell_type": "code",
   "execution_count": 1,
   "id": "ec8469a4",
   "metadata": {
    "_cell_guid": "b1076dfc-b9ad-4769-8c92-a6c4dae69d19",
    "_uuid": "8f2839f25d086af736a60e9eeb907d3b93b6e0e5",
    "execution": {
     "iopub.execute_input": "2023-01-15T23:46:44.308478Z",
     "iopub.status.busy": "2023-01-15T23:46:44.307984Z",
     "iopub.status.idle": "2023-01-15T23:46:45.950504Z",
     "shell.execute_reply": "2023-01-15T23:46:45.949532Z"
    },
    "papermill": {
     "duration": 1.651171,
     "end_time": "2023-01-15T23:46:45.953022",
     "exception": false,
     "start_time": "2023-01-15T23:46:44.301851",
     "status": "completed"
    },
    "tags": []
   },
   "outputs": [
    {
     "name": "stdout",
     "output_type": "stream",
     "text": [
      "/kaggle/input/titanic/train.csv\n",
      "/kaggle/input/titanic/test.csv\n",
      "/kaggle/input/titanic/gender_submission.csv\n"
     ]
    }
   ],
   "source": [
    "# This Python 3 environment comes with many helpful analytics libraries installed\n",
    "# It is defined by the kaggle/python Docker image: https://github.com/kaggle/docker-python\n",
    "# For example, here's several helpful packages to load\n",
    "\n",
    "import numpy as np # linear algebra\n",
    "import pandas as pd # data processing, CSV file I/O (e.g. pd.read_csv)\n",
    "import matplotlib.pyplot as plt\n",
    "import math\n",
    "import category_encoders as ce\n",
    "from sklearn.ensemble import RandomForestClassifier\n",
    "\n",
    "# Input data files are available in the read-only \"../input/\" directory\n",
    "# For example, running this (by clicking run or pressing Shift+Enter) will list all files under the input directory\n",
    "\n",
    "import os\n",
    "for dirname, _, filenames in os.walk('/kaggle/input'):\n",
    "    for filename in filenames:\n",
    "        print(os.path.join(dirname, filename))\n",
    "\n",
    "# You can write up to 20GB to the current directory (/kaggle/working/) that gets preserved as output when you create a version using \"Save & Run All\" \n",
    "# You can also write temporary files to /kaggle/temp/, but they won't be saved outside of the current session"
   ]
  },
  {
   "cell_type": "code",
   "execution_count": 2,
   "id": "3164a3e2",
   "metadata": {
    "execution": {
     "iopub.execute_input": "2023-01-15T23:46:45.962106Z",
     "iopub.status.busy": "2023-01-15T23:46:45.960877Z",
     "iopub.status.idle": "2023-01-15T23:46:46.012624Z",
     "shell.execute_reply": "2023-01-15T23:46:46.011072Z"
    },
    "papermill": {
     "duration": 0.059,
     "end_time": "2023-01-15T23:46:46.015441",
     "exception": false,
     "start_time": "2023-01-15T23:46:45.956441",
     "status": "completed"
    },
    "tags": []
   },
   "outputs": [
    {
     "data": {
      "text/html": [
       "<div>\n",
       "<style scoped>\n",
       "    .dataframe tbody tr th:only-of-type {\n",
       "        vertical-align: middle;\n",
       "    }\n",
       "\n",
       "    .dataframe tbody tr th {\n",
       "        vertical-align: top;\n",
       "    }\n",
       "\n",
       "    .dataframe thead th {\n",
       "        text-align: right;\n",
       "    }\n",
       "</style>\n",
       "<table border=\"1\" class=\"dataframe\">\n",
       "  <thead>\n",
       "    <tr style=\"text-align: right;\">\n",
       "      <th></th>\n",
       "      <th>PassengerId</th>\n",
       "      <th>Survived</th>\n",
       "      <th>Pclass</th>\n",
       "      <th>Name</th>\n",
       "      <th>Sex</th>\n",
       "      <th>Age</th>\n",
       "      <th>SibSp</th>\n",
       "      <th>Parch</th>\n",
       "      <th>Ticket</th>\n",
       "      <th>Fare</th>\n",
       "      <th>Cabin</th>\n",
       "      <th>Embarked</th>\n",
       "    </tr>\n",
       "  </thead>\n",
       "  <tbody>\n",
       "    <tr>\n",
       "      <th>0</th>\n",
       "      <td>1</td>\n",
       "      <td>0</td>\n",
       "      <td>3</td>\n",
       "      <td>Braund, Mr. Owen Harris</td>\n",
       "      <td>male</td>\n",
       "      <td>22.0</td>\n",
       "      <td>1</td>\n",
       "      <td>0</td>\n",
       "      <td>A/5 21171</td>\n",
       "      <td>7.2500</td>\n",
       "      <td>NaN</td>\n",
       "      <td>S</td>\n",
       "    </tr>\n",
       "    <tr>\n",
       "      <th>1</th>\n",
       "      <td>2</td>\n",
       "      <td>1</td>\n",
       "      <td>1</td>\n",
       "      <td>Cumings, Mrs. John Bradley (Florence Briggs Th...</td>\n",
       "      <td>female</td>\n",
       "      <td>38.0</td>\n",
       "      <td>1</td>\n",
       "      <td>0</td>\n",
       "      <td>PC 17599</td>\n",
       "      <td>71.2833</td>\n",
       "      <td>C85</td>\n",
       "      <td>C</td>\n",
       "    </tr>\n",
       "    <tr>\n",
       "      <th>2</th>\n",
       "      <td>3</td>\n",
       "      <td>1</td>\n",
       "      <td>3</td>\n",
       "      <td>Heikkinen, Miss. Laina</td>\n",
       "      <td>female</td>\n",
       "      <td>26.0</td>\n",
       "      <td>0</td>\n",
       "      <td>0</td>\n",
       "      <td>STON/O2. 3101282</td>\n",
       "      <td>7.9250</td>\n",
       "      <td>NaN</td>\n",
       "      <td>S</td>\n",
       "    </tr>\n",
       "    <tr>\n",
       "      <th>3</th>\n",
       "      <td>4</td>\n",
       "      <td>1</td>\n",
       "      <td>1</td>\n",
       "      <td>Futrelle, Mrs. Jacques Heath (Lily May Peel)</td>\n",
       "      <td>female</td>\n",
       "      <td>35.0</td>\n",
       "      <td>1</td>\n",
       "      <td>0</td>\n",
       "      <td>113803</td>\n",
       "      <td>53.1000</td>\n",
       "      <td>C123</td>\n",
       "      <td>S</td>\n",
       "    </tr>\n",
       "    <tr>\n",
       "      <th>4</th>\n",
       "      <td>5</td>\n",
       "      <td>0</td>\n",
       "      <td>3</td>\n",
       "      <td>Allen, Mr. William Henry</td>\n",
       "      <td>male</td>\n",
       "      <td>35.0</td>\n",
       "      <td>0</td>\n",
       "      <td>0</td>\n",
       "      <td>373450</td>\n",
       "      <td>8.0500</td>\n",
       "      <td>NaN</td>\n",
       "      <td>S</td>\n",
       "    </tr>\n",
       "  </tbody>\n",
       "</table>\n",
       "</div>"
      ],
      "text/plain": [
       "   PassengerId  Survived  Pclass  \\\n",
       "0            1         0       3   \n",
       "1            2         1       1   \n",
       "2            3         1       3   \n",
       "3            4         1       1   \n",
       "4            5         0       3   \n",
       "\n",
       "                                                Name     Sex   Age  SibSp  \\\n",
       "0                            Braund, Mr. Owen Harris    male  22.0      1   \n",
       "1  Cumings, Mrs. John Bradley (Florence Briggs Th...  female  38.0      1   \n",
       "2                             Heikkinen, Miss. Laina  female  26.0      0   \n",
       "3       Futrelle, Mrs. Jacques Heath (Lily May Peel)  female  35.0      1   \n",
       "4                           Allen, Mr. William Henry    male  35.0      0   \n",
       "\n",
       "   Parch            Ticket     Fare Cabin Embarked  \n",
       "0      0         A/5 21171   7.2500   NaN        S  \n",
       "1      0          PC 17599  71.2833   C85        C  \n",
       "2      0  STON/O2. 3101282   7.9250   NaN        S  \n",
       "3      0            113803  53.1000  C123        S  \n",
       "4      0            373450   8.0500   NaN        S  "
      ]
     },
     "execution_count": 2,
     "metadata": {},
     "output_type": "execute_result"
    }
   ],
   "source": [
    "# Read training and testing data\n",
    "training_data = pd.read_csv('/kaggle/input/titanic/train.csv')\n",
    "testing_data = pd.read_csv('/kaggle/input/titanic/test.csv')\n",
    "training_data.head()"
   ]
  },
  {
   "cell_type": "code",
   "execution_count": 3,
   "id": "38c82064",
   "metadata": {
    "execution": {
     "iopub.execute_input": "2023-01-15T23:46:46.024589Z",
     "iopub.status.busy": "2023-01-15T23:46:46.024190Z",
     "iopub.status.idle": "2023-01-15T23:46:46.058184Z",
     "shell.execute_reply": "2023-01-15T23:46:46.057182Z"
    },
    "papermill": {
     "duration": 0.041895,
     "end_time": "2023-01-15T23:46:46.060977",
     "exception": false,
     "start_time": "2023-01-15T23:46:46.019082",
     "status": "completed"
    },
    "tags": []
   },
   "outputs": [
    {
     "name": "stdout",
     "output_type": "stream",
     "text": [
      "3    491\n",
      "1    216\n",
      "2    184\n",
      "Name: Pclass, dtype: int64\n",
      "\n",
      "male      577\n",
      "female    314\n",
      "Name: Sex, dtype: int64\n",
      "\n",
      "177\n",
      "count    714.000000\n",
      "mean      29.699118\n",
      "std       14.526497\n",
      "min        0.420000\n",
      "25%       20.125000\n",
      "50%       28.000000\n",
      "75%       38.000000\n",
      "max       80.000000\n",
      "Name: Age, dtype: float64\n",
      "\n",
      "0    608\n",
      "1    209\n",
      "2     28\n",
      "4     18\n",
      "3     16\n",
      "8      7\n",
      "5      5\n",
      "Name: SibSp, dtype: int64\n",
      "\n",
      "0    678\n",
      "1    118\n",
      "2     80\n",
      "5      5\n",
      "3      5\n",
      "4      4\n",
      "6      1\n",
      "Name: Parch, dtype: int64\n",
      "\n",
      "0\n",
      "count    891.000000\n",
      "mean      32.204208\n",
      "std       49.693429\n",
      "min        0.000000\n",
      "25%        7.910400\n",
      "50%       14.454200\n",
      "75%       31.000000\n",
      "max      512.329200\n",
      "Name: Fare, dtype: float64\n",
      "\n",
      "NaN            687\n",
      "C23 C25 C27      4\n",
      "G6               4\n",
      "B96 B98          4\n",
      "C22 C26          3\n",
      "              ... \n",
      "E34              1\n",
      "C7               1\n",
      "C54              1\n",
      "E36              1\n",
      "C148             1\n",
      "Name: Cabin, Length: 148, dtype: int64\n",
      "\n",
      "S      644\n",
      "C      168\n",
      "Q       77\n",
      "NaN      2\n",
      "Name: Embarked, dtype: int64\n",
      "\n",
      "0    549\n",
      "1    342\n",
      "Name: Survived, dtype: int64\n"
     ]
    }
   ],
   "source": [
    "# Summarize data\n",
    "print(training_data['Pclass'].value_counts(dropna=False))\n",
    "print()\n",
    "print(training_data['Sex'].value_counts(dropna=False))\n",
    "print()\n",
    "print(training_data['Age'].isna().sum())\n",
    "print(training_data['Age'].describe())\n",
    "print()\n",
    "print(training_data['SibSp'].value_counts(dropna=False))\n",
    "print()\n",
    "print(training_data['Parch'].value_counts(dropna=False))\n",
    "print()\n",
    "print(training_data['Fare'].isna().sum())\n",
    "print(training_data['Fare'].describe())\n",
    "print()\n",
    "print(training_data['Cabin'].value_counts(dropna=False))\n",
    "print()\n",
    "print(training_data['Embarked'].value_counts(dropna=False))\n",
    "print()\n",
    "print(training_data['Survived'].value_counts(dropna=False))"
   ]
  },
  {
   "cell_type": "code",
   "execution_count": 4,
   "id": "378d5737",
   "metadata": {
    "execution": {
     "iopub.execute_input": "2023-01-15T23:46:46.070020Z",
     "iopub.status.busy": "2023-01-15T23:46:46.069630Z",
     "iopub.status.idle": "2023-01-15T23:46:46.081326Z",
     "shell.execute_reply": "2023-01-15T23:46:46.080454Z"
    },
    "papermill": {
     "duration": 0.018742,
     "end_time": "2023-01-15T23:46:46.083533",
     "exception": false,
     "start_time": "2023-01-15T23:46:46.064791",
     "status": "completed"
    },
    "tags": []
   },
   "outputs": [],
   "source": [
    "def transform_data(df, category_transformers, is_training):\n",
    "\n",
    "    age_male_series = df.loc[df['Sex'] == 'male', ['Age']]\n",
    "    df.loc[df['Sex'] == 'male', ['Age']] = df.loc[df['Sex'] == 'male', ['Age']].fillna(value=age_male_series.mean())\n",
    "    age_female_series = df.loc[df['Sex'] == 'female', ['Age']]\n",
    "    df.loc[df['Sex'] == 'female', ['Age']] = df.loc[df['Sex'] == 'female', ['Age']].fillna(value=age_female_series.mean())\n",
    "    df['LastName'] = df.apply(lambda x: x.Name.split(',')[0], axis=1)\n",
    "    df[['Cabin', 'Embarked']] = df[['Cabin', 'Embarked']].fillna(value='U')\n",
    "    df['CabinLetter'] = df.apply(lambda x: x['Cabin'][0], axis=1)\n",
    "    df = df.drop(['Name','Ticket','Cabin','PassengerId'], axis=1)\n",
    "    df['Fare'] = df['Fare'].fillna(value=df['Fare'].mean())\n",
    "\n",
    "    if is_training:\n",
    "        df = category_transformers[0].fit_transform(df)\n",
    "        df = category_transformers[1].fit_transform(df)\n",
    "    else:\n",
    "        df = category_transformers[0].transform(df)\n",
    "        df = category_transformers[1].transform(df)\n",
    "    return df"
   ]
  },
  {
   "cell_type": "code",
   "execution_count": 5,
   "id": "1c6c9192",
   "metadata": {
    "execution": {
     "iopub.execute_input": "2023-01-15T23:46:46.096010Z",
     "iopub.status.busy": "2023-01-15T23:46:46.094636Z",
     "iopub.status.idle": "2023-01-15T23:46:46.303244Z",
     "shell.execute_reply": "2023-01-15T23:46:46.301951Z"
    },
    "papermill": {
     "duration": 0.216879,
     "end_time": "2023-01-15T23:46:46.306090",
     "exception": false,
     "start_time": "2023-01-15T23:46:46.089211",
     "status": "completed"
    },
    "tags": []
   },
   "outputs": [],
   "source": [
    "category_transformers = [ce.OneHotEncoder(cols=['Sex', 'Pclass', 'SibSp', 'Parch', 'Embarked', 'CabinLetter'], handle_missing='value'), ce.BinaryEncoder(cols=['LastName'], handle_missing='value')]\n",
    "training_data_X, training_data_Y = training_data.drop('Survived', axis=1), training_data['Survived']\n",
    "testing_data_X = testing_data\n",
    "training_data_X = transform_data(training_data_X, category_transformers, is_training=True)\n",
    "testing_data_X = transform_data(testing_data_X, category_transformers, is_training=False)"
   ]
  },
  {
   "cell_type": "code",
   "execution_count": 6,
   "id": "dc0df7ae",
   "metadata": {
    "execution": {
     "iopub.execute_input": "2023-01-15T23:46:46.316256Z",
     "iopub.status.busy": "2023-01-15T23:46:46.315729Z",
     "iopub.status.idle": "2023-01-15T23:46:46.539185Z",
     "shell.execute_reply": "2023-01-15T23:46:46.537953Z"
    },
    "papermill": {
     "duration": 0.23152,
     "end_time": "2023-01-15T23:46:46.541883",
     "exception": false,
     "start_time": "2023-01-15T23:46:46.310363",
     "status": "completed"
    },
    "tags": []
   },
   "outputs": [
    {
     "data": {
      "text/plain": [
       "RandomForestClassifier()"
      ]
     },
     "execution_count": 6,
     "metadata": {},
     "output_type": "execute_result"
    }
   ],
   "source": [
    "rf_classifier = RandomForestClassifier()\n",
    "rf_classifier.fit(training_data_X, training_data_Y)"
   ]
  },
  {
   "cell_type": "code",
   "execution_count": 7,
   "id": "435f819e",
   "metadata": {
    "execution": {
     "iopub.execute_input": "2023-01-15T23:46:46.551983Z",
     "iopub.status.busy": "2023-01-15T23:46:46.551016Z",
     "iopub.status.idle": "2023-01-15T23:46:46.580574Z",
     "shell.execute_reply": "2023-01-15T23:46:46.579384Z"
    },
    "papermill": {
     "duration": 0.037234,
     "end_time": "2023-01-15T23:46:46.583143",
     "exception": false,
     "start_time": "2023-01-15T23:46:46.545909",
     "status": "completed"
    },
    "tags": []
   },
   "outputs": [],
   "source": [
    "predictions = rf_classifier.predict(testing_data_X)"
   ]
  },
  {
   "cell_type": "code",
   "execution_count": 8,
   "id": "80e664ca",
   "metadata": {
    "execution": {
     "iopub.execute_input": "2023-01-15T23:46:46.593186Z",
     "iopub.status.busy": "2023-01-15T23:46:46.592750Z",
     "iopub.status.idle": "2023-01-15T23:46:46.978419Z",
     "shell.execute_reply": "2023-01-15T23:46:46.977198Z"
    },
    "papermill": {
     "duration": 0.393677,
     "end_time": "2023-01-15T23:46:46.981037",
     "exception": false,
     "start_time": "2023-01-15T23:46:46.587360",
     "status": "completed"
    },
    "tags": []
   },
   "outputs": [
    {
     "data": {
      "image/png": "[encoded data removed]",
      "text/plain": [
       "<Figure size 432x288 with 1 Axes>"
      ]
     },
     "metadata": {
      "needs_background": "light"
     },
     "output_type": "display_data"
    }
   ],
   "source": [
    "feat_importances = pd.Series(rf_classifier.feature_importances_, index=training_data_X.columns)\n",
    "feat_importances.nlargest(25).plot(kind='barh')\n",
    "plt.title(\"Top 25 important features\")\n",
    "plt.show()"
   ]
  },
  {
   "cell_type": "code",
   "execution_count": 9,
   "id": "619c0f12",
   "metadata": {
    "execution": {
     "iopub.execute_input": "2023-01-15T23:46:46.991582Z",
     "iopub.status.busy": "2023-01-15T23:46:46.991123Z",
     "iopub.status.idle": "2023-01-15T23:46:46.999633Z",
     "shell.execute_reply": "2023-01-15T23:46:46.998214Z"
    },
    "papermill": {
     "duration": 0.017414,
     "end_time": "2023-01-15T23:46:47.002881",
     "exception": false,
     "start_time": "2023-01-15T23:46:46.985467",
     "status": "completed"
    },
    "tags": []
   },
   "outputs": [],
   "source": [
    "final_output = pd.DataFrame()\n",
    "final_output['PassengerId'] = testing_data['PassengerId']\n",
    "final_output['Survived'] = predictions"
   ]
  },
  {
   "cell_type": "code",
   "execution_count": 10,
   "id": "d2d80ba8",
   "metadata": {
    "execution": {
     "iopub.execute_input": "2023-01-15T23:46:47.013994Z",
     "iopub.status.busy": "2023-01-15T23:46:47.013569Z",
     "iopub.status.idle": "2023-01-15T23:46:47.023053Z",
     "shell.execute_reply": "2023-01-15T23:46:47.021717Z"
    },
    "papermill": {
     "duration": 0.018187,
     "end_time": "2023-01-15T23:46:47.025920",
     "exception": false,
     "start_time": "2023-01-15T23:46:47.007733",
     "status": "completed"
    },
    "tags": []
   },
   "outputs": [],
   "source": [
    "final_output.to_csv('/kaggle/working/submission.csv', index=False)"
   ]
  },
  {
   "cell_type": "code",
   "execution_count": null,
   "id": "ec9c3dd4",
   "metadata": {
    "papermill": {
     "duration": 0.004316,
     "end_time": "2023-01-15T23:46:47.034906",
     "exception": false,
     "start_time": "2023-01-15T23:46:47.030590",
     "status": "completed"
    },
    "tags": []
   },
   "outputs": [],
   "source": []
  }
 ],
 "metadata": {
  "kernelspec": {
   "display_name": "Python 3",
   "language": "python",
   "name": "python3"
  },
  "language_info": {
   "codemirror_mode": {
    "name": "ipython",
    "version": 3
   },
   "file_extension": ".py",
   "mimetype": "text/x-python",
   "name": "python",
   "nbconvert_exporter": "python",
   "pygments_lexer": "ipython3",
   "version": "3.7.12"
  },
  "papermill": {
   "default_parameters": {},
   "duration": 14.081561,
   "end_time": "2023-01-15T23:46:47.862295",
   "environment_variables": {},
   "exception": null,
   "input_path": "__notebook__.ipynb",
   "output_path": "__notebook__.ipynb",
   "parameters": {},
   "start_time": "2023-01-15T23:46:33.780734",
   "version": "2.3.4"
  }
 },
 "nbformat": 4,
 "nbformat_minor": 5
}
