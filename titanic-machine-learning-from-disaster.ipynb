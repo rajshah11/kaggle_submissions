{
 "cells": [
  {
   "cell_type": "code",
   "execution_count": 1,
   "id": "37b2215b",
   "metadata": {
    "_cell_guid": "b1076dfc-b9ad-4769-8c92-a6c4dae69d19",
    "_uuid": "8f2839f25d086af736a60e9eeb907d3b93b6e0e5",
    "execution": {
     "iopub.execute_input": "2023-01-15T23:44:18.912881Z",
     "iopub.status.busy": "2023-01-15T23:44:18.912041Z",
     "iopub.status.idle": "2023-01-15T23:44:20.374622Z",
     "shell.execute_reply": "2023-01-15T23:44:20.373719Z"
    },
    "papermill": {
     "duration": 1.470543,
     "end_time": "2023-01-15T23:44:20.377384",
     "exception": false,
     "start_time": "2023-01-15T23:44:18.906841",
     "status": "completed"
    },
    "tags": []
   },
   "outputs": [
    {
     "name": "stdout",
     "output_type": "stream",
     "text": [
      "/kaggle/input/titanic/train.csv\n",
      "/kaggle/input/titanic/test.csv\n",
      "/kaggle/input/titanic/gender_submission.csv\n"
     ]
    }
   ],
   "source": [
    "# This Python 3 environment comes with many helpful analytics libraries installed\n",
    "# It is defined by the kaggle/python Docker image: https://github.com/kaggle/docker-python\n",
    "# For example, here's several helpful packages to load\n",
    "\n",
    "import numpy as np # linear algebra\n",
    "import pandas as pd # data processing, CSV file I/O (e.g. pd.read_csv)\n",
    "import matplotlib.pyplot as plt\n",
    "import math\n",
    "import category_encoders as ce\n",
    "from sklearn.ensemble import RandomForestClassifier\n",
    "\n",
    "# Input data files are available in the read-only \"../input/\" directory\n",
    "# For example, running this (by clicking run or pressing Shift+Enter) will list all files under the input directory\n",
    "\n",
    "import os\n",
    "for dirname, _, filenames in os.walk('/kaggle/input'):\n",
    "    for filename in filenames:\n",
    "        print(os.path.join(dirname, filename))\n",
    "\n",
    "# You can write up to 20GB to the current directory (/kaggle/working/) that gets preserved as output when you create a version using \"Save & Run All\" \n",
    "# You can also write temporary files to /kaggle/temp/, but they won't be saved outside of the current session"
   ]
  },
  {
   "cell_type": "code",
   "execution_count": 2,
   "id": "1852da6a",
   "metadata": {
    "execution": {
     "iopub.execute_input": "2023-01-15T23:44:20.385121Z",
     "iopub.status.busy": "2023-01-15T23:44:20.384090Z",
     "iopub.status.idle": "2023-01-15T23:44:20.430152Z",
     "shell.execute_reply": "2023-01-15T23:44:20.428741Z"
    },
    "papermill": {
     "duration": 0.052054,
     "end_time": "2023-01-15T23:44:20.432419",
     "exception": false,
     "start_time": "2023-01-15T23:44:20.380365",
     "status": "completed"
    },
    "tags": []
   },
   "outputs": [
    {
     "data": {
      "text/html": [
       "<div>\n",
       "<style scoped>\n",
       "    .dataframe tbody tr th:only-of-type {\n",
       "        vertical-align: middle;\n",
       "    }\n",
       "\n",
       "    .dataframe tbody tr th {\n",
       "        vertical-align: top;\n",
       "    }\n",
       "\n",
       "    .dataframe thead th {\n",
       "        text-align: right;\n",
       "    }\n",
       "</style>\n",
       "<table border=\"1\" class=\"dataframe\">\n",
       "  <thead>\n",
       "    <tr style=\"text-align: right;\">\n",
       "      <th></th>\n",
       "      <th>PassengerId</th>\n",
       "      <th>Survived</th>\n",
       "      <th>Pclass</th>\n",
       "      <th>Name</th>\n",
       "      <th>Sex</th>\n",
       "      <th>Age</th>\n",
       "      <th>SibSp</th>\n",
       "      <th>Parch</th>\n",
       "      <th>Ticket</th>\n",
       "      <th>Fare</th>\n",
       "      <th>Cabin</th>\n",
       "      <th>Embarked</th>\n",
       "    </tr>\n",
       "  </thead>\n",
       "  <tbody>\n",
       "    <tr>\n",
       "      <th>0</th>\n",
       "      <td>1</td>\n",
       "      <td>0</td>\n",
       "      <td>3</td>\n",
       "      <td>Braund, Mr. Owen Harris</td>\n",
       "      <td>male</td>\n",
       "      <td>22.0</td>\n",
       "      <td>1</td>\n",
       "      <td>0</td>\n",
       "      <td>A/5 21171</td>\n",
       "      <td>7.2500</td>\n",
       "      <td>NaN</td>\n",
       "      <td>S</td>\n",
       "    </tr>\n",
       "    <tr>\n",
       "      <th>1</th>\n",
       "      <td>2</td>\n",
       "      <td>1</td>\n",
       "      <td>1</td>\n",
       "      <td>Cumings, Mrs. John Bradley (Florence Briggs Th...</td>\n",
       "      <td>female</td>\n",
       "      <td>38.0</td>\n",
       "      <td>1</td>\n",
       "      <td>0</td>\n",
       "      <td>PC 17599</td>\n",
       "      <td>71.2833</td>\n",
       "      <td>C85</td>\n",
       "      <td>C</td>\n",
       "    </tr>\n",
       "    <tr>\n",
       "      <th>2</th>\n",
       "      <td>3</td>\n",
       "      <td>1</td>\n",
       "      <td>3</td>\n",
       "      <td>Heikkinen, Miss. Laina</td>\n",
       "      <td>female</td>\n",
       "      <td>26.0</td>\n",
       "      <td>0</td>\n",
       "      <td>0</td>\n",
       "      <td>STON/O2. 3101282</td>\n",
       "      <td>7.9250</td>\n",
       "      <td>NaN</td>\n",
       "      <td>S</td>\n",
       "    </tr>\n",
       "    <tr>\n",
       "      <th>3</th>\n",
       "      <td>4</td>\n",
       "      <td>1</td>\n",
       "      <td>1</td>\n",
       "      <td>Futrelle, Mrs. Jacques Heath (Lily May Peel)</td>\n",
       "      <td>female</td>\n",
       "      <td>35.0</td>\n",
       "      <td>1</td>\n",
       "      <td>0</td>\n",
       "      <td>113803</td>\n",
       "      <td>53.1000</td>\n",
       "      <td>C123</td>\n",
       "      <td>S</td>\n",
       "    </tr>\n",
       "    <tr>\n",
       "      <th>4</th>\n",
       "      <td>5</td>\n",
       "      <td>0</td>\n",
       "      <td>3</td>\n",
       "      <td>Allen, Mr. William Henry</td>\n",
       "      <td>male</td>\n",
       "      <td>35.0</td>\n",
       "      <td>0</td>\n",
       "      <td>0</td>\n",
       "      <td>373450</td>\n",
       "      <td>8.0500</td>\n",
       "      <td>NaN</td>\n",
       "      <td>S</td>\n",
       "    </tr>\n",
       "  </tbody>\n",
       "</table>\n",
       "</div>"
      ],
      "text/plain": [
       "   PassengerId  Survived  Pclass  \\\n",
       "0            1         0       3   \n",
       "1            2         1       1   \n",
       "2            3         1       3   \n",
       "3            4         1       1   \n",
       "4            5         0       3   \n",
       "\n",
       "                                                Name     Sex   Age  SibSp  \\\n",
       "0                            Braund, Mr. Owen Harris    male  22.0      1   \n",
       "1  Cumings, Mrs. John Bradley (Florence Briggs Th...  female  38.0      1   \n",
       "2                             Heikkinen, Miss. Laina  female  26.0      0   \n",
       "3       Futrelle, Mrs. Jacques Heath (Lily May Peel)  female  35.0      1   \n",
       "4                           Allen, Mr. William Henry    male  35.0      0   \n",
       "\n",
       "   Parch            Ticket     Fare Cabin Embarked  \n",
       "0      0         A/5 21171   7.2500   NaN        S  \n",
       "1      0          PC 17599  71.2833   C85        C  \n",
       "2      0  STON/O2. 3101282   7.9250   NaN        S  \n",
       "3      0            113803  53.1000  C123        S  \n",
       "4      0            373450   8.0500   NaN        S  "
      ]
     },
     "execution_count": 2,
     "metadata": {},
     "output_type": "execute_result"
    }
   ],
   "source": [
    "# Read training and testing data\n",
    "training_data = pd.read_csv('/kaggle/input/titanic/train.csv')\n",
    "testing_data = pd.read_csv('/kaggle/input/titanic/test.csv')\n",
    "training_data.head()"
   ]
  },
  {
   "cell_type": "code",
   "execution_count": 3,
   "id": "7680a633",
   "metadata": {
    "execution": {
     "iopub.execute_input": "2023-01-15T23:44:20.440024Z",
     "iopub.status.busy": "2023-01-15T23:44:20.439678Z",
     "iopub.status.idle": "2023-01-15T23:44:20.471314Z",
     "shell.execute_reply": "2023-01-15T23:44:20.469925Z"
    },
    "papermill": {
     "duration": 0.038124,
     "end_time": "2023-01-15T23:44:20.473687",
     "exception": false,
     "start_time": "2023-01-15T23:44:20.435563",
     "status": "completed"
    },
    "tags": []
   },
   "outputs": [
    {
     "name": "stdout",
     "output_type": "stream",
     "text": [
      "3    491\n",
      "1    216\n",
      "2    184\n",
      "Name: Pclass, dtype: int64\n",
      "\n",
      "male      577\n",
      "female    314\n",
      "Name: Sex, dtype: int64\n",
      "\n",
      "177\n",
      "count    714.000000\n",
      "mean      29.699118\n",
      "std       14.526497\n",
      "min        0.420000\n",
      "25%       20.125000\n",
      "50%       28.000000\n",
      "75%       38.000000\n",
      "max       80.000000\n",
      "Name: Age, dtype: float64\n",
      "\n",
      "0    608\n",
      "1    209\n",
      "2     28\n",
      "4     18\n",
      "3     16\n",
      "8      7\n",
      "5      5\n",
      "Name: SibSp, dtype: int64\n",
      "\n",
      "0    678\n",
      "1    118\n",
      "2     80\n",
      "5      5\n",
      "3      5\n",
      "4      4\n",
      "6      1\n",
      "Name: Parch, dtype: int64\n",
      "\n",
      "0\n",
      "count    891.000000\n",
      "mean      32.204208\n",
      "std       49.693429\n",
      "min        0.000000\n",
      "25%        7.910400\n",
      "50%       14.454200\n",
      "75%       31.000000\n",
      "max      512.329200\n",
      "Name: Fare, dtype: float64\n",
      "\n",
      "NaN            687\n",
      "C23 C25 C27      4\n",
      "G6               4\n",
      "B96 B98          4\n",
      "C22 C26          3\n",
      "              ... \n",
      "E34              1\n",
      "C7               1\n",
      "C54              1\n",
      "E36              1\n",
      "C148             1\n",
      "Name: Cabin, Length: 148, dtype: int64\n",
      "\n",
      "S      644\n",
      "C      168\n",
      "Q       77\n",
      "NaN      2\n",
      "Name: Embarked, dtype: int64\n",
      "\n",
      "0    549\n",
      "1    342\n",
      "Name: Survived, dtype: int64\n"
     ]
    }
   ],
   "source": [
    "# Summarize data\n",
    "print(training_data['Pclass'].value_counts(dropna=False))\n",
    "print()\n",
    "print(training_data['Sex'].value_counts(dropna=False))\n",
    "print()\n",
    "print(training_data['Age'].isna().sum())\n",
    "print(training_data['Age'].describe())\n",
    "print()\n",
    "print(training_data['SibSp'].value_counts(dropna=False))\n",
    "print()\n",
    "print(training_data['Parch'].value_counts(dropna=False))\n",
    "print()\n",
    "print(training_data['Fare'].isna().sum())\n",
    "print(training_data['Fare'].describe())\n",
    "print()\n",
    "print(training_data['Cabin'].value_counts(dropna=False))\n",
    "print()\n",
    "print(training_data['Embarked'].value_counts(dropna=False))\n",
    "print()\n",
    "print(training_data['Survived'].value_counts(dropna=False))"
   ]
  },
  {
   "cell_type": "code",
   "execution_count": 4,
   "id": "6241602c",
   "metadata": {
    "execution": {
     "iopub.execute_input": "2023-01-15T23:44:20.482698Z",
     "iopub.status.busy": "2023-01-15T23:44:20.481631Z",
     "iopub.status.idle": "2023-01-15T23:44:20.492930Z",
     "shell.execute_reply": "2023-01-15T23:44:20.491169Z"
    },
    "papermill": {
     "duration": 0.018751,
     "end_time": "2023-01-15T23:44:20.495876",
     "exception": false,
     "start_time": "2023-01-15T23:44:20.477125",
     "status": "completed"
    },
    "tags": []
   },
   "outputs": [],
   "source": [
    "def transform_data(df, category_transformers, is_training):\n",
    "\n",
    "    age_male_series = df.loc[df['Sex'] == 'male', ['Age']]\n",
    "    df.loc[df['Sex'] == 'male', ['Age']] = df.loc[df['Sex'] == 'male', ['Age']].fillna(value=age_male_series.mean())\n",
    "    age_female_series = df.loc[df['Sex'] == 'female', ['Age']]\n",
    "    df.loc[df['Sex'] == 'female', ['Age']] = df.loc[df['Sex'] == 'female', ['Age']].fillna(value=age_female_series.mean())\n",
    "    df['LastName'] = df.apply(lambda x: x.Name.split(',')[0], axis=1)\n",
    "    df[['Cabin', 'Embarked']] = df[['Cabin', 'Embarked']].fillna(value='U')\n",
    "    df['CabinLetter'] = df.apply(lambda x: x['Cabin'][0], axis=1)\n",
    "    df = df.drop(['Name','Ticket','Cabin','PassengerId'], axis=1)\n",
    "    df['Fare'] = df['Fare'].fillna(value=df['Fare'].mean())\n",
    "\n",
    "    if is_training:\n",
    "        df = category_transformers[0].fit_transform(df)\n",
    "        df = category_transformers[1].fit_transform(df)\n",
    "    else:\n",
    "        df = category_transformers[0].transform(df)\n",
    "        df = category_transformers[1].transform(df)\n",
    "    return df"
   ]
  },
  {
   "cell_type": "code",
   "execution_count": 5,
   "id": "cabff5c6",
   "metadata": {
    "execution": {
     "iopub.execute_input": "2023-01-15T23:44:20.505357Z",
     "iopub.status.busy": "2023-01-15T23:44:20.503969Z",
     "iopub.status.idle": "2023-01-15T23:44:20.684381Z",
     "shell.execute_reply": "2023-01-15T23:44:20.683469Z"
    },
    "papermill": {
     "duration": 0.187314,
     "end_time": "2023-01-15T23:44:20.686541",
     "exception": false,
     "start_time": "2023-01-15T23:44:20.499227",
     "status": "completed"
    },
    "tags": []
   },
   "outputs": [],
   "source": [
    "category_transformers = [ce.OneHotEncoder(cols=['Sex', 'Pclass', 'SibSp', 'Parch', 'Embarked', 'CabinLetter'], handle_missing='value'), ce.BinaryEncoder(cols=['LastName'], handle_missing='value')]\n",
    "training_data_X, training_data_Y = training_data.drop('Survived', axis=1), training_data['Survived']\n",
    "testing_data_X = testing_data\n",
    "training_data_X = transform_data(training_data_X, category_transformers, is_training=True)\n",
    "testing_data_X = transform_data(testing_data_X, category_transformers, is_training=False)"
   ]
  },
  {
   "cell_type": "code",
   "execution_count": 6,
   "id": "7abd36f6",
   "metadata": {
    "execution": {
     "iopub.execute_input": "2023-01-15T23:44:20.694835Z",
     "iopub.status.busy": "2023-01-15T23:44:20.693977Z",
     "iopub.status.idle": "2023-01-15T23:44:20.886140Z",
     "shell.execute_reply": "2023-01-15T23:44:20.884953Z"
    },
    "papermill": {
     "duration": 0.198259,
     "end_time": "2023-01-15T23:44:20.888083",
     "exception": false,
     "start_time": "2023-01-15T23:44:20.689824",
     "status": "completed"
    },
    "tags": []
   },
   "outputs": [
    {
     "data": {
      "text/plain": [
       "RandomForestClassifier()"
      ]
     },
     "execution_count": 6,
     "metadata": {},
     "output_type": "execute_result"
    }
   ],
   "source": [
    "rf_classifier = RandomForestClassifier()\n",
    "rf_classifier.fit(training_data_X, training_data_Y)"
   ]
  },
  {
   "cell_type": "code",
   "execution_count": 7,
   "id": "e18be12e",
   "metadata": {
    "execution": {
     "iopub.execute_input": "2023-01-15T23:44:20.896425Z",
     "iopub.status.busy": "2023-01-15T23:44:20.896014Z",
     "iopub.status.idle": "2023-01-15T23:44:20.918803Z",
     "shell.execute_reply": "2023-01-15T23:44:20.917900Z"
    },
    "papermill": {
     "duration": 0.029427,
     "end_time": "2023-01-15T23:44:20.920986",
     "exception": false,
     "start_time": "2023-01-15T23:44:20.891559",
     "status": "completed"
    },
    "tags": []
   },
   "outputs": [],
   "source": [
    "predictions = rf_classifier.predict(testing_data_X)"
   ]
  },
  {
   "cell_type": "code",
   "execution_count": 8,
   "id": "05dfc55d",
   "metadata": {
    "execution": {
     "iopub.execute_input": "2023-01-15T23:44:20.929224Z",
     "iopub.status.busy": "2023-01-15T23:44:20.928776Z",
     "iopub.status.idle": "2023-01-15T23:44:21.217572Z",
     "shell.execute_reply": "2023-01-15T23:44:21.216095Z"
    },
    "papermill": {
     "duration": 0.295869,
     "end_time": "2023-01-15T23:44:21.220265",
     "exception": false,
     "start_time": "2023-01-15T23:44:20.924396",
     "status": "completed"
    },
    "tags": []
   },
   "outputs": [
    {
     "data": {
      "image/png": "[encoded data removed]",
      "text/plain": [
       "<Figure size 432x288 with 1 Axes>"
      ]
     },
     "metadata": {
      "needs_background": "light"
     },
     "output_type": "display_data"
    }
   ],
   "source": [
    "feat_importances = pd.Series(rf_classifier.feature_importances_, index=training_data_X.columns)\n",
    "feat_importances.nlargest(25).plot(kind='barh')\n",
    "plt.title(\"Top 25 important features\")\n",
    "plt.show()"
   ]
  },
  {
   "cell_type": "code",
   "execution_count": 9,
   "id": "44145553",
   "metadata": {
    "execution": {
     "iopub.execute_input": "2023-01-15T23:44:21.229887Z",
     "iopub.status.busy": "2023-01-15T23:44:21.229448Z",
     "iopub.status.idle": "2023-01-15T23:44:21.237294Z",
     "shell.execute_reply": "2023-01-15T23:44:21.235910Z"
    },
    "papermill": {
     "duration": 0.015807,
     "end_time": "2023-01-15T23:44:21.240065",
     "exception": false,
     "start_time": "2023-01-15T23:44:21.224258",
     "status": "completed"
    },
    "tags": []
   },
   "outputs": [],
   "source": [
    "final_output = pd.DataFrame()\n",
    "final_output['PassengerId'] = testing_data['PassengerId']\n",
    "final_output['Survived'] = predictions"
   ]
  },
  {
   "cell_type": "code",
   "execution_count": 10,
   "id": "c8f97366",
   "metadata": {
    "execution": {
     "iopub.execute_input": "2023-01-15T23:44:21.249586Z",
     "iopub.status.busy": "2023-01-15T23:44:21.249192Z",
     "iopub.status.idle": "2023-01-15T23:44:21.257572Z",
     "shell.execute_reply": "2023-01-15T23:44:21.256836Z"
    },
    "papermill": {
     "duration": 0.015956,
     "end_time": "2023-01-15T23:44:21.260093",
     "exception": false,
     "start_time": "2023-01-15T23:44:21.244137",
     "status": "completed"
    },
    "tags": []
   },
   "outputs": [],
   "source": [
    "final_output.to_csv('/kaggle/working/submission.csv')"
   ]
  },
  {
   "cell_type": "code",
   "execution_count": null,
   "id": "feed7107",
   "metadata": {
    "papermill": {
     "duration": 0.003627,
     "end_time": "2023-01-15T23:44:21.267815",
     "exception": false,
     "start_time": "2023-01-15T23:44:21.264188",
     "status": "completed"
    },
    "tags": []
   },
   "outputs": [],
   "source": []
  }
 ],
 "metadata": {
  "kernelspec": {
   "display_name": "Python 3",
   "language": "python",
   "name": "python3"
  },
  "language_info": {
   "codemirror_mode": {
    "name": "ipython",
    "version": 3
   },
   "file_extension": ".py",
   "mimetype": "text/x-python",
   "name": "python",
   "nbconvert_exporter": "python",
   "pygments_lexer": "ipython3",
   "version": "3.7.12"
  },
  "papermill": {
   "default_parameters": {},
   "duration": 10.712745,
   "end_time": "2023-01-15T23:44:21.993052",
   "environment_variables": {},
   "exception": null,
   "input_path": "__notebook__.ipynb",
   "output_path": "__notebook__.ipynb",
   "parameters": {},
   "start_time": "2023-01-15T23:44:11.280307",
   "version": "2.3.4"
  }
 },
 "nbformat": 4,
 "nbformat_minor": 5
}
